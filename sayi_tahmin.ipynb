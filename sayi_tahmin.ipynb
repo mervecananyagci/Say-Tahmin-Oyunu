{
  "nbformat": 4,
  "nbformat_minor": 0,
  "metadata": {
    "colab": {
      "provenance": [],
      "authorship_tag": "ABX9TyOSZ96wlDnOZsZjG97UPGil",
      "include_colab_link": true
    },
    "kernelspec": {
      "name": "python3",
      "display_name": "Python 3"
    },
    "language_info": {
      "name": "python"
    }
  },
  "cells": [
    {
      "cell_type": "markdown",
      "metadata": {
        "id": "view-in-github",
        "colab_type": "text"
      },
      "source": [
        "<a href=\"https://colab.research.google.com/github/mervecananyagci/Say-Tahmin-Oyunu/blob/main/sayi_tahmin.ipynb\" target=\"_parent\"><img src=\"https://colab.research.google.com/assets/colab-badge.svg\" alt=\"Open In Colab\"/></a>"
      ]
    },
    {
      "cell_type": "code",
      "execution_count": 14,
      "metadata": {
        "id": "kml-SS3jEJ7x"
      },
      "outputs": [],
      "source": [
        "import random\n",
        "from random import randint"
      ]
    },
    {
      "cell_type": "code",
      "source": [
        "a = random.randint(1,3)\n",
        "sayac = 0\n",
        "hak = 3\n",
        "while hak > 0:\n",
        "  hak -= 1\n",
        "  sayac += 1\n",
        "  sayi = int(input(\"Bir sayı gir(0/10): \"))\n",
        "  if sayi == a:\n",
        "    print(f'Harika! {sayac}.tahminde bildin.')\n",
        "    break\n",
        "  else:\n",
        "    print(f\"Yanlış cevap.Kalan hak sayısı: {hak}\")\n",
        "  if hak == 0:\n",
        "    print(f'Hakkın bitti.Doğru cevap:{b}')\n"
      ],
      "metadata": {
        "id": "9vB8QsMwEPYW"
      },
      "execution_count": null,
      "outputs": []
    }
  ]
}