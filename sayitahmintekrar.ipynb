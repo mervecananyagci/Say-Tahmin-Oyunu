{
  "nbformat": 4,
  "nbformat_minor": 0,
  "metadata": {
    "colab": {
      "provenance": [],
      "authorship_tag": "ABX9TyPtssQ7b5zBUAj7PFT774qz",
      "include_colab_link": true
    },
    "kernelspec": {
      "name": "python3",
      "display_name": "Python 3"
    },
    "language_info": {
      "name": "python"
    }
  },
  "cells": [
    {
      "cell_type": "markdown",
      "metadata": {
        "id": "view-in-github",
        "colab_type": "text"
      },
      "source": [
        "<a href=\"https://colab.research.google.com/github/mervecananyagci/Say-Tahmin-Oyunu/blob/main/sayitahmintekrar.ipynb\" target=\"_parent\"><img src=\"https://colab.research.google.com/assets/colab-badge.svg\" alt=\"Open In Colab\"/></a>"
      ]
    },
    {
      "cell_type": "code",
      "execution_count": 2,
      "metadata": {
        "id": "Jc4YASWpZyja"
      },
      "outputs": [],
      "source": [
        "import random\n",
        "from random import randint"
      ]
    },
    {
      "cell_type": "code",
      "source": [
        "devam = \"evet\"\n",
        "\n",
        "while devam.lower() == \"evet\":\n",
        "    a = random.randint(5, 10)\n",
        "    sayac = 0\n",
        "    hak = 3\n",
        "    \n",
        "    while hak > 0:\n",
        "        hak -= 1\n",
        "        sayac += 1\n",
        "        sayi = int(input(\"Bir sayı gir (5-10): \"))\n",
        "        \n",
        "        if sayi == a:\n",
        "            print(f'Harika! {sayac}. tahminde bildin.')\n",
        "            break\n",
        "        else:\n",
        "            print(f\"Yanlış cevap. Kalan hak sayısı: {hak}\")\n",
        "    \n",
        "    if hak == 0:\n",
        "        print(f'Hakkın bitti. Doğru cevap: {a}')\n",
        "    devam = input(\"Başka bir soru ister misin? (Evet/Hayır): \")"
      ],
      "metadata": {
        "colab": {
          "base_uri": "https://localhost:8080/"
        },
        "id": "QlqLXdZMZ2Jf",
        "outputId": "c30ee13a-9258-4ad8-eb44-04faea6a2b88"
      },
      "execution_count": 4,
      "outputs": [
        {
          "name": "stdout",
          "output_type": "stream",
          "text": [
            "Bir sayı gir (5-10): 10\n",
            "Yanlış cevap. Kalan hak sayısı: 2\n",
            "Bir sayı gir (5-10): 5\n",
            "Yanlış cevap. Kalan hak sayısı: 1\n",
            "Bir sayı gir (5-10): 8\n",
            "Yanlış cevap. Kalan hak sayısı: 0\n",
            "Hakkın bitti. Doğru cevap: 7\n",
            "Başka bir soru ister misin? (Evet/Hayır): evet\n",
            "Bir sayı gir (5-10): 6\n",
            "Harika! 1. tahminde bildin.\n",
            "Başka bir soru ister misin? (Evet/Hayır): hayır\n"
          ]
        }
      ]
    },
    {
      "cell_type": "code",
      "source": [],
      "metadata": {
        "id": "KuW_lN1fOz_U"
      },
      "execution_count": null,
      "outputs": []
    }
  ]
}